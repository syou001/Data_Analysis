{
  "nbformat": 4,
  "nbformat_minor": 0,
  "metadata": {
    "colab": {
      "name": "chipotle_EDA.ipynb",
      "provenance": [],
      "mount_file_id": "14axnQUJplgvkKsXXZwlx0gOZhdan6CYK",
      "authorship_tag": "ABX9TyN5OsFZUiswnA7QFXRCluBN",
      "include_colab_link": true
    },
    "kernelspec": {
      "name": "python3",
      "display_name": "Python 3"
    }
  },
  "cells": [
    {
      "cell_type": "markdown",
      "metadata": {
        "id": "view-in-github",
        "colab_type": "text"
      },
      "source": [
        "<a href=\"https://colab.research.google.com/github/syou001/Data_Analysis/blob/main/chipotle_EDA.ipynb\" target=\"_parent\"><img src=\"https://colab.research.google.com/assets/colab-badge.svg\" alt=\"Open In Colab\"/></a>"
      ]
    },
    {
      "cell_type": "markdown",
      "metadata": {
        "id": "wekDanNW7Pem"
      },
      "source": [
        "#1.2 멕시코풍 프렌차이즈 chipotle 주문 데이터 분석"
      ]
    },
    {
      "cell_type": "markdown",
      "metadata": {
        "id": "l_qyuDQ29oTV"
      },
      "source": [
        "##<Step1. 탐색> : 데이터의 기초 정보 살펴보기\n",
        "**[Chipotle 데이터셋의 기본 정보]**"
      ]
    },
    {
      "cell_type": "code",
      "metadata": {
        "id": "0uFal2cG7e2c"
      },
      "source": [
        "import pandas as pd\n",
        "\n",
        "#read_csv 함수로 데이터 DataFrame으로 불러온다.\n",
        "path = '/content/drive/MyDrive/수연/study/python-data-analysis/data/chipotle.tsv'\n",
        "chipo = pd.read_csv(path, sep='\\t')"
      ],
      "execution_count": 5,
      "outputs": []
    },
    {
      "cell_type": "code",
      "metadata": {
        "colab": {
          "base_uri": "https://localhost:8080/"
        },
        "id": "A4WqAocQ8WPy",
        "outputId": "321727d2-7bfe-42ab-d419-7c8d37584914"
      },
      "source": [
        "print(chipo.shape)"
      ],
      "execution_count": 6,
      "outputs": [
        {
          "output_type": "stream",
          "text": [
            "(4622, 5)\n"
          ],
          "name": "stdout"
        }
      ]
    },
    {
      "cell_type": "code",
      "metadata": {
        "colab": {
          "base_uri": "https://localhost:8080/"
        },
        "id": "dm0RSfHV8agp",
        "outputId": "5243e3f9-2865-45bc-fb6c-9fce65f5f19d"
      },
      "source": [
        "print(chipo.info())"
      ],
      "execution_count": 7,
      "outputs": [
        {
          "output_type": "stream",
          "text": [
            "<class 'pandas.core.frame.DataFrame'>\n",
            "RangeIndex: 4622 entries, 0 to 4621\n",
            "Data columns (total 5 columns):\n",
            " #   Column              Non-Null Count  Dtype \n",
            "---  ------              --------------  ----- \n",
            " 0   order_id            4622 non-null   int64 \n",
            " 1   quantity            4622 non-null   int64 \n",
            " 2   item_name           4622 non-null   object\n",
            " 3   choice_description  3376 non-null   object\n",
            " 4   item_price          4622 non-null   object\n",
            "dtypes: int64(2), object(3)\n",
            "memory usage: 180.7+ KB\n",
            "None\n"
          ],
          "name": "stdout"
        }
      ]
    },
    {
      "cell_type": "markdown",
      "metadata": {
        "id": "21y6KeQa8q0W"
      },
      "source": [
        "**[Chipotle 데이터셋의 행과 열, 데이터]**"
      ]
    },
    {
      "cell_type": "code",
      "metadata": {
        "colab": {
          "base_uri": "https://localhost:8080/",
          "height": 189
        },
        "id": "5BTXCEkQ8lYw",
        "outputId": "e2a4b567-022e-4c38-aa24-59d01611408f"
      },
      "source": [
        "#chipo dataframe에 순서대로 5개의 row 데이터 보여준다.\n",
        "chipo.head()"
      ],
      "execution_count": 9,
      "outputs": [
        {
          "output_type": "execute_result",
          "data": {
            "text/html": [
              "<div>\n",
              "<style scoped>\n",
              "    .dataframe tbody tr th:only-of-type {\n",
              "        vertical-align: middle;\n",
              "    }\n",
              "\n",
              "    .dataframe tbody tr th {\n",
              "        vertical-align: top;\n",
              "    }\n",
              "\n",
              "    .dataframe thead th {\n",
              "        text-align: right;\n",
              "    }\n",
              "</style>\n",
              "<table border=\"1\" class=\"dataframe\">\n",
              "  <thead>\n",
              "    <tr style=\"text-align: right;\">\n",
              "      <th></th>\n",
              "      <th>order_id</th>\n",
              "      <th>quantity</th>\n",
              "      <th>item_name</th>\n",
              "      <th>choice_description</th>\n",
              "      <th>item_price</th>\n",
              "    </tr>\n",
              "  </thead>\n",
              "  <tbody>\n",
              "    <tr>\n",
              "      <th>0</th>\n",
              "      <td>1</td>\n",
              "      <td>1</td>\n",
              "      <td>Chips and Fresh Tomato Salsa</td>\n",
              "      <td>NaN</td>\n",
              "      <td>$2.39</td>\n",
              "    </tr>\n",
              "    <tr>\n",
              "      <th>1</th>\n",
              "      <td>1</td>\n",
              "      <td>1</td>\n",
              "      <td>Izze</td>\n",
              "      <td>[Clementine]</td>\n",
              "      <td>$3.39</td>\n",
              "    </tr>\n",
              "    <tr>\n",
              "      <th>2</th>\n",
              "      <td>1</td>\n",
              "      <td>1</td>\n",
              "      <td>Nantucket Nectar</td>\n",
              "      <td>[Apple]</td>\n",
              "      <td>$3.39</td>\n",
              "    </tr>\n",
              "    <tr>\n",
              "      <th>3</th>\n",
              "      <td>1</td>\n",
              "      <td>1</td>\n",
              "      <td>Chips and Tomatillo-Green Chili Salsa</td>\n",
              "      <td>NaN</td>\n",
              "      <td>$2.39</td>\n",
              "    </tr>\n",
              "    <tr>\n",
              "      <th>4</th>\n",
              "      <td>2</td>\n",
              "      <td>2</td>\n",
              "      <td>Chicken Bowl</td>\n",
              "      <td>[Tomatillo-Red Chili Salsa (Hot), [Black Beans...</td>\n",
              "      <td>$16.98</td>\n",
              "    </tr>\n",
              "  </tbody>\n",
              "</table>\n",
              "</div>"
            ],
            "text/plain": [
              "   order_id  ...  item_price\n",
              "0         1  ...      $2.39 \n",
              "1         1  ...      $3.39 \n",
              "2         1  ...      $3.39 \n",
              "3         1  ...      $2.39 \n",
              "4         2  ...     $16.98 \n",
              "\n",
              "[5 rows x 5 columns]"
            ]
          },
          "metadata": {
            "tags": []
          },
          "execution_count": 9
        }
      ]
    },
    {
      "cell_type": "code",
      "metadata": {
        "colab": {
          "base_uri": "https://localhost:8080/"
        },
        "id": "dgcB2i6M9A0z",
        "outputId": "19db3cf0-296d-49c1-c38f-21e0e1dbc349"
      },
      "source": [
        "#chipo dataframe의 column명을 보여준다.\n",
        "print(chipo.columns)\n",
        "print('----------------------')\n",
        "#chipo index의 갯수와 시작 행의 수와 끝행의 수를 보여준다.\n",
        "print(chipo.index)"
      ],
      "execution_count": 10,
      "outputs": [
        {
          "output_type": "execute_result",
          "data": {
            "text/plain": [
              "Index(['order_id', 'quantity', 'item_name', 'choice_description',\n",
              "       'item_price'],\n",
              "      dtype='object')"
            ]
          },
          "metadata": {
            "tags": []
          },
          "execution_count": 10
        }
      ]
    },
    {
      "cell_type": "markdown",
      "metadata": {
        "id": "4eZ7RvZ3_8Yo"
      },
      "source": [
        "\n",
        "\n",
        "---\n",
        "\n"
      ]
    },
    {
      "cell_type": "markdown",
      "metadata": {
        "id": "QFaoOU9M-apO"
      },
      "source": [
        "*데이터의 수치적 특징 탐색을 위한 간단한 질문 정의*\n",
        "\n",
        "\n",
        "*   quantity와 item_price의 요약 통계\n",
        "*   order_id와 item_name의 개수\n",
        "\n"
      ]
    },
    {
      "cell_type": "markdown",
      "metadata": {
        "id": "SXWcgDIn_uP9"
      },
      "source": [
        "**[chipotle 데이터셋의 수치적 특징 파악]**\n",
        "\n",
        "*describe 함수로 요약 통계량 출력*\n"
      ]
    },
    {
      "cell_type": "code",
      "metadata": {
        "id": "AwEtvjyc_4nJ"
      },
      "source": [
        "#order_id는 숫자의 의미가 없으므로 string으로 변환\n",
        "chipo['order_id']=chipo['order_id'].astype(str)"
      ],
      "execution_count": 12,
      "outputs": []
    },
    {
      "cell_type": "code",
      "metadata": {
        "colab": {
          "base_uri": "https://localhost:8080/"
        },
        "id": "bdfXVKsXAmL7",
        "outputId": "ba1e8261-b8d6-4e8f-d30a-ab00e67b50a0"
      },
      "source": [
        "#chipo dataframe에서 수치형 피처들의 요약 통계량 확인\n",
        "print(chipo.describe())"
      ],
      "execution_count": 13,
      "outputs": [
        {
          "output_type": "stream",
          "text": [
            "          quantity\n",
            "count  4622.000000\n",
            "mean      1.075725\n",
            "std       0.410186\n",
            "min       1.000000\n",
            "25%       1.000000\n",
            "50%       1.000000\n",
            "75%       1.000000\n",
            "max      15.000000\n"
          ],
          "name": "stdout"
        }
      ]
    },
    {
      "cell_type": "markdown",
      "metadata": {
        "id": "G8GRzvN-A72V"
      },
      "source": [
        "\n",
        "\n",
        "---\n",
        "\n"
      ]
    },
    {
      "cell_type": "markdown",
      "metadata": {
        "id": "AAsaJR-5A19j"
      },
      "source": [
        "*unique 함수로 범주형 피쳐 갯수 출력하기*"
      ]
    },
    {
      "cell_type": "code",
      "metadata": {
        "colab": {
          "base_uri": "https://localhost:8080/"
        },
        "id": "kBB1JcUVAtrr",
        "outputId": "651b3542-a294-444b-d893-205d510902f9"
      },
      "source": [
        "#order_id의 값이 어떻게 있는지 갯수 : 1834명이 order\n",
        "print(len(chipo['order_id'].unique()))\n",
        "#item_name의 개수를 출력 : 50\n",
        "print(len(chipo['item_name'].unique()))"
      ],
      "execution_count": 15,
      "outputs": [
        {
          "output_type": "stream",
          "text": [
            "1834\n"
          ],
          "name": "stdout"
        }
      ]
    },
    {
      "cell_type": "code",
      "metadata": {
        "colab": {
          "base_uri": "https://localhost:8080/"
        },
        "id": "8RgTH1xSBA00",
        "outputId": "a7a57fb3-2425-475e-9fb9-fd3fbc6b9261"
      },
      "source": [
        "print(len(chipo['item_name'].unique()))"
      ],
      "execution_count": 17,
      "outputs": [
        {
          "output_type": "stream",
          "text": [
            "50\n"
          ],
          "name": "stdout"
        }
      ]
    },
    {
      "cell_type": "markdown",
      "metadata": {
        "id": "z0g2B28yB8zK"
      },
      "source": [
        "\n",
        "\n",
        "---\n",
        "\n"
      ]
    },
    {
      "cell_type": "markdown",
      "metadata": {
        "id": "ZZzT8T2_CHIX"
      },
      "source": [
        "##<step2. 인사이트의 발견> : 탐색, 시각화"
      ]
    },
    {
      "cell_type": "markdown",
      "metadata": {
        "id": "oYeaJUf9CddL"
      },
      "source": [
        "*인사이트 발견 할 수 있을만한 개념적 질문 정의*\n",
        "\n",
        "\n",
        "*   가장 많이 주문한 item이 무엇인지\n",
        "*   item당 주문의 총량은 얼마인지\n",
        "\n"
      ]
    },
    {
      "cell_type": "markdown",
      "metadata": {
        "id": "m6_rdBQQCqyB"
      },
      "source": [
        "**[가장 많이 주문한 item]**"
      ]
    },
    {
      "cell_type": "code",
      "metadata": {
        "colab": {
          "base_uri": "https://localhost:8080/"
        },
        "id": "nyNmh4KZBX8w",
        "outputId": "bb59507c-9b2d-4cae-c019-dac9e360012d"
      },
      "source": [
        "#가장 많이 주문한 item : top 10 출력\n",
        "#value_counts():unique값 당 갯수 카운트\n",
        "#iteritems()는 '키'와 '값'의 쌍을 iterator(반복자)로 반환\n",
        "item_count=chipo['item_name'].value_counts()[:10]\n",
        "for idx,(val,cnt) in enumerate(item_count.iteritems(),1):\n",
        "  print('Top', idx,':', val, cnt)"
      ],
      "execution_count": 36,
      "outputs": [
        {
          "output_type": "stream",
          "text": [
            "Top 1 : Chicken Bowl 726\n",
            "Top 2 : Chicken Burrito 553\n",
            "Top 3 : Chips and Guacamole 479\n",
            "Top 4 : Steak Burrito 368\n",
            "Top 5 : Canned Soft Drink 301\n",
            "Top 6 : Steak Bowl 211\n",
            "Top 7 : Chips 211\n",
            "Top 8 : Bottled Water 162\n",
            "Top 9 : Chicken Soft Tacos 115\n",
            "Top 10 : Chips and Fresh Tomato Salsa 110\n"
          ],
          "name": "stdout"
        }
      ]
    },
    {
      "cell_type": "code",
      "metadata": {
        "colab": {
          "base_uri": "https://localhost:8080/",
          "height": 36
        },
        "id": "V3PTJdQxDUaU",
        "outputId": "a1e2d66e-82d3-4a7b-a7b5-af54da69c7bc"
      },
      "source": [
        "chipo['item_name'].value_counts().index.tolist()[0]"
      ],
      "execution_count": 41,
      "outputs": [
        {
          "output_type": "execute_result",
          "data": {
            "application/vnd.google.colaboratory.intrinsic+json": {
              "type": "string"
            },
            "text/plain": [
              "'Chicken Bowl'"
            ]
          },
          "metadata": {
            "tags": []
          },
          "execution_count": 41
        }
      ]
    },
    {
      "cell_type": "markdown",
      "metadata": {
        "id": "8xs2WGXgJtMA"
      },
      "source": [
        "\n",
        "\n",
        "---\n",
        "\n"
      ]
    },
    {
      "cell_type": "markdown",
      "metadata": {
        "id": "5waVQSohJqIr"
      },
      "source": [
        "**[item당 주문 개수와 총량 구하기]**"
      ]
    },
    {
      "cell_type": "code",
      "metadata": {
        "colab": {
          "base_uri": "https://localhost:8080/"
        },
        "id": "wqDEjtr6D_9G",
        "outputId": "2da95293-9d14-4089-a680-ef711320a405"
      },
      "source": [
        "#item당 주문 개수 출력\n",
        "order_count=chipo.groupby('item_name')['order_id'].count()\n",
        "order_count"
      ],
      "execution_count": 45,
      "outputs": [
        {
          "output_type": "execute_result",
          "data": {
            "text/plain": [
              "item_name\n",
              "6 Pack Soft Drink                         54\n",
              "Barbacoa Bowl                             66\n",
              "Barbacoa Burrito                          91\n",
              "Barbacoa Crispy Tacos                     11\n",
              "Barbacoa Salad Bowl                       10\n",
              "Barbacoa Soft Tacos                       25\n",
              "Bottled Water                            162\n",
              "Bowl                                       2\n",
              "Burrito                                    6\n",
              "Canned Soda                              104\n",
              "Canned Soft Drink                        301\n",
              "Carnitas Bowl                             68\n",
              "Carnitas Burrito                          59\n",
              "Carnitas Crispy Tacos                      7\n",
              "Carnitas Salad                             1\n",
              "Carnitas Salad Bowl                        6\n",
              "Carnitas Soft Tacos                       40\n",
              "Chicken Bowl                             726\n",
              "Chicken Burrito                          553\n",
              "Chicken Crispy Tacos                      47\n",
              "Chicken Salad                              9\n",
              "Chicken Salad Bowl                       110\n",
              "Chicken Soft Tacos                       115\n",
              "Chips                                    211\n",
              "Chips and Fresh Tomato Salsa             110\n",
              "Chips and Guacamole                      479\n",
              "Chips and Mild Fresh Tomato Salsa          1\n",
              "Chips and Roasted Chili Corn Salsa        22\n",
              "Chips and Roasted Chili-Corn Salsa        18\n",
              "Chips and Tomatillo Green Chili Salsa     43\n",
              "Chips and Tomatillo Red Chili Salsa       48\n",
              "Chips and Tomatillo-Green Chili Salsa     31\n",
              "Chips and Tomatillo-Red Chili Salsa       20\n",
              "Crispy Tacos                               2\n",
              "Izze                                      20\n",
              "Nantucket Nectar                          27\n",
              "Salad                                      2\n",
              "Side of Chips                            101\n",
              "Steak Bowl                               211\n",
              "Steak Burrito                            368\n",
              "Steak Crispy Tacos                        35\n",
              "Steak Salad                                4\n",
              "Steak Salad Bowl                          29\n",
              "Steak Soft Tacos                          55\n",
              "Veggie Bowl                               85\n",
              "Veggie Burrito                            95\n",
              "Veggie Crispy Tacos                        1\n",
              "Veggie Salad                               6\n",
              "Veggie Salad Bowl                         18\n",
              "Veggie Soft Tacos                          7\n",
              "Name: order_id, dtype: int64"
            ]
          },
          "metadata": {
            "tags": []
          },
          "execution_count": 45
        }
      ]
    },
    {
      "cell_type": "code",
      "metadata": {
        "colab": {
          "base_uri": "https://localhost:8080/"
        },
        "id": "56fwTzxSKDhd",
        "outputId": "b5c23a2a-3458-4b04-87e1-2c7f45af658c"
      },
      "source": [
        "#item당 주문 총량을 출력\n",
        "item_quantity = chipo.groupby('item_name')['quantity'].sum()\n",
        "item_quantity"
      ],
      "execution_count": 48,
      "outputs": [
        {
          "output_type": "execute_result",
          "data": {
            "text/plain": [
              "item_name\n",
              "6 Pack Soft Drink                         55\n",
              "Barbacoa Bowl                             66\n",
              "Barbacoa Burrito                          91\n",
              "Barbacoa Crispy Tacos                     12\n",
              "Barbacoa Salad Bowl                       10\n",
              "Barbacoa Soft Tacos                       25\n",
              "Bottled Water                            211\n",
              "Bowl                                       4\n",
              "Burrito                                    6\n",
              "Canned Soda                              126\n",
              "Canned Soft Drink                        351\n",
              "Carnitas Bowl                             71\n",
              "Carnitas Burrito                          60\n",
              "Carnitas Crispy Tacos                      8\n",
              "Carnitas Salad                             1\n",
              "Carnitas Salad Bowl                        6\n",
              "Carnitas Soft Tacos                       40\n",
              "Chicken Bowl                             761\n",
              "Chicken Burrito                          591\n",
              "Chicken Crispy Tacos                      50\n",
              "Chicken Salad                              9\n",
              "Chicken Salad Bowl                       123\n",
              "Chicken Soft Tacos                       120\n",
              "Chips                                    230\n",
              "Chips and Fresh Tomato Salsa             130\n",
              "Chips and Guacamole                      506\n",
              "Chips and Mild Fresh Tomato Salsa          1\n",
              "Chips and Roasted Chili Corn Salsa        23\n",
              "Chips and Roasted Chili-Corn Salsa        18\n",
              "Chips and Tomatillo Green Chili Salsa     45\n",
              "Chips and Tomatillo Red Chili Salsa       50\n",
              "Chips and Tomatillo-Green Chili Salsa     33\n",
              "Chips and Tomatillo-Red Chili Salsa       25\n",
              "Crispy Tacos                               2\n",
              "Izze                                      20\n",
              "Nantucket Nectar                          29\n",
              "Salad                                      2\n",
              "Side of Chips                            110\n",
              "Steak Bowl                               221\n",
              "Steak Burrito                            386\n",
              "Steak Crispy Tacos                        36\n",
              "Steak Salad                                4\n",
              "Steak Salad Bowl                          31\n",
              "Steak Soft Tacos                          56\n",
              "Veggie Bowl                               87\n",
              "Veggie Burrito                            97\n",
              "Veggie Crispy Tacos                        1\n",
              "Veggie Salad                               6\n",
              "Veggie Salad Bowl                         18\n",
              "Veggie Soft Tacos                          8\n",
              "Name: quantity, dtype: int64"
            ]
          },
          "metadata": {
            "tags": []
          },
          "execution_count": 48
        }
      ]
    },
    {
      "cell_type": "markdown",
      "metadata": {
        "id": "bORuzw5DKlbS"
      },
      "source": [
        "\n",
        "\n",
        "---\n",
        "\n"
      ]
    },
    {
      "cell_type": "markdown",
      "metadata": {
        "id": "moBBAFKdKmSL"
      },
      "source": [
        "**[시각화로 분석 결과 살펴보기]**\n",
        "-지금까지의 분석 결과를 간단한 시각화로 표현"
      ]
    },
    {
      "cell_type": "code",
      "metadata": {
        "colab": {
          "base_uri": "https://localhost:8080/",
          "height": 280
        },
        "id": "Ie4fC1fRKUPM",
        "outputId": "3238c0e1-2cfb-4fd3-e3cf-61ee32970de6"
      },
      "source": [
        "%matplotlib inline\n",
        "import numpy as np\n",
        "import matplotlib.pyplot as plt\n",
        "\n",
        "\n",
        "item_name_list = item_quantity.index.tolist()\n",
        "x_post = np.arange(len(item_name_list))\n",
        "order_cnt = item_quantity.values.tolist()\n",
        "\n",
        "plt.bar(x_post, order_cnt, align='center')\n",
        "\n",
        "plt.ylabel('ordered_item_count')\n",
        "plt.title('Distribution of all ordered item')\n",
        "plt.show()"
      ],
      "execution_count": 50,
      "outputs": [
        {
          "output_type": "display_data",
          "data": {
            "image/png": "[encoded data removed]",
            "text/plain": [
              "<Figure size 432x288 with 1 Axes>"
            ]
          },
          "metadata": {
            "tags": [],
            "needs_background": "light"
          }
        }
      ]
    },
    {
      "cell_type": "markdown",
      "metadata": {
        "id": "Yten1x-cL_cw"
      },
      "source": [
        "##<step3. 데이터 전처리>"
      ]
    },
    {
      "cell_type": "markdown",
      "metadata": {
        "id": "vDhPgcEQMEFX"
      },
      "source": [
        "**[apply와 lambda 함수를 이용한 데이터 전처리]**"
      ]
    },
    {
      "cell_type": "code",
      "metadata": {
        "colab": {
          "base_uri": "https://localhost:8080/"
        },
        "id": "qNsD0KkqLaM2",
        "outputId": "6de9a908-0caf-453d-b92d-91c511dbfcc2"
      },
      "source": [
        "print(chipo.info())\n",
        "print('--------------')\n",
        "chipo['item_price'].head()"
      ],
      "execution_count": 54,
      "outputs": [
        {
          "output_type": "stream",
          "text": [
            "<class 'pandas.core.frame.DataFrame'>\n",
            "RangeIndex: 4622 entries, 0 to 4621\n",
            "Data columns (total 5 columns):\n",
            " #   Column              Non-Null Count  Dtype \n",
            "---  ------              --------------  ----- \n",
            " 0   order_id            4622 non-null   object\n",
            " 1   quantity            4622 non-null   int64 \n",
            " 2   item_name           4622 non-null   object\n",
            " 3   choice_description  3376 non-null   object\n",
            " 4   item_price          4622 non-null   object\n",
            "dtypes: int64(1), object(4)\n",
            "memory usage: 180.7+ KB\n",
            "None\n",
            "--------------\n"
          ],
          "name": "stdout"
        },
        {
          "output_type": "execute_result",
          "data": {
            "text/plain": [
              "0     $2.39 \n",
              "1     $3.39 \n",
              "2     $3.39 \n",
              "3     $2.39 \n",
              "4    $16.98 \n",
              "Name: item_price, dtype: object"
            ]
          },
          "metadata": {
            "tags": []
          },
          "execution_count": 54
        }
      ]
    },
    {
      "cell_type": "code",
      "metadata": {
        "id": "uCKtirh1ML-X"
      },
      "source": [
        "# column단위 데이터에 apply 함수로 전처리 적용\n",
        "chipo['item_price']=chipo['item_price'].apply(lambda x: float(x[1:]))\n",
        "\n",
        "chipo.describe()"
      ],
      "execution_count": null,
      "outputs": []
    },
    {
      "cell_type": "code",
      "metadata": {
        "colab": {
          "base_uri": "https://localhost:8080/"
        },
        "id": "hIIUvJ8_MO3L",
        "outputId": "29df5923-33e8-42a1-fbf0-02359e292d13"
      },
      "source": [
        "chipo['item_price'].head()"
      ],
      "execution_count": 61,
      "outputs": [
        {
          "output_type": "execute_result",
          "data": {
            "text/plain": [
              "0     2.39\n",
              "1     3.39\n",
              "2     3.39\n",
              "3     2.39\n",
              "4    16.98\n",
              "Name: item_price, dtype: float64"
            ]
          },
          "metadata": {
            "tags": []
          },
          "execution_count": 61
        }
      ]
    },
    {
      "cell_type": "markdown",
      "metadata": {
        "id": "n9D-pQv3NJS4"
      },
      "source": [
        "##<step4. 탐색적 분석>"
      ]
    },
    {
      "cell_type": "markdown",
      "metadata": {
        "id": "FccOFhUDNOVl"
      },
      "source": [
        "*데이터를 이해하기 위한 조금 더 복잡한 질문들로 탐색적 데이터 분석*\n",
        "\n",
        "\n",
        "*   주문당 편균 계산금액 출력하기\n",
        "*   한 주문에 10달러 이상 사용한 주문의 id 출력하기\n",
        "*   각 아이템의 가격 구하기\n",
        "*   가장 비싼 주문에서 item이 몇개 팔렸는지 구하기\n",
        "*   'Veggie Salad Bowl'이 몇번 주문되었는지 구하기\n",
        "*   'Chicken Bowl'을 2개 이상 주문한 주문 횟수 구하기\n",
        "\n",
        "\n",
        "\n"
      ]
    },
    {
      "cell_type": "markdown",
      "metadata": {
        "id": "OIdIKtX2Nxes"
      },
      "source": [
        "**[주문당 평균 계산금액 출력하기]**"
      ]
    },
    {
      "cell_type": "code",
      "metadata": {
        "colab": {
          "base_uri": "https://localhost:8080/"
        },
        "id": "5evX7xhlM62l",
        "outputId": "37e097f0-51a2-4714-d507-f65d5c8dd505"
      },
      "source": [
        "#주문당 평균 계산금액 출력\n",
        "chipo.groupby('order_id')['item_price'].sum().mean()"
      ],
      "execution_count": 68,
      "outputs": [
        {
          "output_type": "execute_result",
          "data": {
            "text/plain": [
              "18.811428571428717"
            ]
          },
          "metadata": {
            "tags": []
          },
          "execution_count": 68
        }
      ]
    },
    {
      "cell_type": "code",
      "metadata": {
        "colab": {
          "base_uri": "https://localhost:8080/"
        },
        "id": "1_u2Z9ugN9dy",
        "outputId": "8b33f55b-9e27-48db-a7f7-ffafd89c4737"
      },
      "source": [
        "chipo.groupby('order_id')['item_price'].sum().describe()[:10]"
      ],
      "execution_count": 69,
      "outputs": [
        {
          "output_type": "execute_result",
          "data": {
            "text/plain": [
              "count    1834.000000\n",
              "mean       18.811429\n",
              "std        11.652512\n",
              "min        10.080000\n",
              "25%        12.572500\n",
              "50%        16.200000\n",
              "75%        21.960000\n",
              "max       205.250000\n",
              "Name: item_price, dtype: float64"
            ]
          },
          "metadata": {
            "tags": []
          },
          "execution_count": 69
        }
      ]
    },
    {
      "cell_type": "markdown",
      "metadata": {
        "id": "PgyN8XfHOKks"
      },
      "source": [
        "\n",
        "\n",
        "---\n",
        "\n"
      ]
    },
    {
      "cell_type": "markdown",
      "metadata": {
        "id": "10p265__OLsY"
      },
      "source": [
        "**[한 주문에 10달러 이상 사용한 주문번호(id)출력하기]**"
      ]
    },
    {
      "cell_type": "code",
      "metadata": {
        "colab": {
          "base_uri": "https://localhost:8080/"
        },
        "id": "BxFHo7vpOKbC",
        "outputId": "e3bc84eb-ce97-460b-fb27-a7406f3c2030"
      },
      "source": [
        "#한 주문에 10달러 이상 사용한 id 출력\n",
        "chipo_orderid_group = chipo.groupby('order_id').sum()\n",
        "result = chipo_orderid_group[chipo_orderid_group.item_price>=10]\n",
        "\n",
        "print(result[:10])\n",
        "print(result.index.values)"
      ],
      "execution_count": 75,
      "outputs": [
        {
          "output_type": "stream",
          "text": [
            "          quantity  item_price\n",
            "order_id                      \n",
            "1                4       11.56\n",
            "10               2       13.20\n",
            "100              2       10.08\n",
            "1000             2       20.50\n",
            "1001             2       10.08\n",
            "1002             2       10.68\n",
            "1003             2       13.00\n",
            "1004             2       21.96\n",
            "1005             3       12.15\n",
            "1006             8       71.40\n",
            "['1' '10' '100' ... '997' '998' '999']\n"
          ],
          "name": "stdout"
        }
      ]
    },
    {
      "cell_type": "markdown",
      "metadata": {
        "id": "eGR_sXHXPNCc"
      },
      "source": [
        "\n",
        "\n",
        "---\n",
        "\n"
      ]
    },
    {
      "cell_type": "markdown",
      "metadata": {
        "id": "3P2HSeSvPN0l"
      },
      "source": [
        "**[각 아이템의 가격 구하기]**"
      ]
    },
    {
      "cell_type": "code",
      "metadata": {
        "colab": {
          "base_uri": "https://localhost:8080/",
          "height": 360
        },
        "id": "D4QhcgqMPRC7",
        "outputId": "ae23b494-271f-4875-a128-4a3d73032979"
      },
      "source": [
        "#각 아이템의 가격 계산\n",
        "chipo_one_item = chipo[chipo.quantity==1]\n",
        "price_per_item = chipo_one_item.groupby('item_name').min()\n",
        "price_per_item.sort_values(by='item_price', ascending=False)[:10]"
      ],
      "execution_count": 77,
      "outputs": [
        {
          "output_type": "execute_result",
          "data": {
            "text/html": [
              "<div>\n",
              "<style scoped>\n",
              "    .dataframe tbody tr th:only-of-type {\n",
              "        vertical-align: middle;\n",
              "    }\n",
              "\n",
              "    .dataframe tbody tr th {\n",
              "        vertical-align: top;\n",
              "    }\n",
              "\n",
              "    .dataframe thead th {\n",
              "        text-align: right;\n",
              "    }\n",
              "</style>\n",
              "<table border=\"1\" class=\"dataframe\">\n",
              "  <thead>\n",
              "    <tr style=\"text-align: right;\">\n",
              "      <th></th>\n",
              "      <th>order_id</th>\n",
              "      <th>quantity</th>\n",
              "      <th>choice_description</th>\n",
              "      <th>item_price</th>\n",
              "    </tr>\n",
              "    <tr>\n",
              "      <th>item_name</th>\n",
              "      <th></th>\n",
              "      <th></th>\n",
              "      <th></th>\n",
              "      <th></th>\n",
              "    </tr>\n",
              "  </thead>\n",
              "  <tbody>\n",
              "    <tr>\n",
              "      <th>Steak Salad Bowl</th>\n",
              "      <td>1032</td>\n",
              "      <td>1</td>\n",
              "      <td>[Fresh Tomato Salsa, Lettuce]</td>\n",
              "      <td>9.39</td>\n",
              "    </tr>\n",
              "    <tr>\n",
              "      <th>Barbacoa Salad Bowl</th>\n",
              "      <td>1283</td>\n",
              "      <td>1</td>\n",
              "      <td>[Fresh Tomato Salsa, Guacamole]</td>\n",
              "      <td>9.39</td>\n",
              "    </tr>\n",
              "    <tr>\n",
              "      <th>Carnitas Salad Bowl</th>\n",
              "      <td>1035</td>\n",
              "      <td>1</td>\n",
              "      <td>[Fresh Tomato Salsa, [Rice, Black Beans, Chees...</td>\n",
              "      <td>9.39</td>\n",
              "    </tr>\n",
              "    <tr>\n",
              "      <th>Carnitas Soft Tacos</th>\n",
              "      <td>1011</td>\n",
              "      <td>1</td>\n",
              "      <td>[Fresh Tomato Salsa (Mild), [Black Beans, Rice...</td>\n",
              "      <td>8.99</td>\n",
              "    </tr>\n",
              "    <tr>\n",
              "      <th>Carnitas Crispy Tacos</th>\n",
              "      <td>1774</td>\n",
              "      <td>1</td>\n",
              "      <td>[Fresh Tomato Salsa, [Fajita Vegetables, Rice,...</td>\n",
              "      <td>8.99</td>\n",
              "    </tr>\n",
              "    <tr>\n",
              "      <th>Steak Soft Tacos</th>\n",
              "      <td>1054</td>\n",
              "      <td>1</td>\n",
              "      <td>[Fresh Tomato Salsa (Mild), [Cheese, Sour Cream]]</td>\n",
              "      <td>8.99</td>\n",
              "    </tr>\n",
              "    <tr>\n",
              "      <th>Carnitas Salad</th>\n",
              "      <td>1500</td>\n",
              "      <td>1</td>\n",
              "      <td>[[Fresh Tomato Salsa (Mild), Roasted Chili Cor...</td>\n",
              "      <td>8.99</td>\n",
              "    </tr>\n",
              "    <tr>\n",
              "      <th>Carnitas Bowl</th>\n",
              "      <td>1007</td>\n",
              "      <td>1</td>\n",
              "      <td>[Fresh Tomato (Mild), [Guacamole, Lettuce, Ric...</td>\n",
              "      <td>8.99</td>\n",
              "    </tr>\n",
              "    <tr>\n",
              "      <th>Barbacoa Soft Tacos</th>\n",
              "      <td>1103</td>\n",
              "      <td>1</td>\n",
              "      <td>[Fresh Tomato Salsa, [Black Beans, Cheese, Let...</td>\n",
              "      <td>8.99</td>\n",
              "    </tr>\n",
              "    <tr>\n",
              "      <th>Barbacoa Crispy Tacos</th>\n",
              "      <td>110</td>\n",
              "      <td>1</td>\n",
              "      <td>[Fresh Tomato Salsa, Guacamole]</td>\n",
              "      <td>8.99</td>\n",
              "    </tr>\n",
              "  </tbody>\n",
              "</table>\n",
              "</div>"
            ],
            "text/plain": [
              "                      order_id  ...  item_price\n",
              "item_name                       ...            \n",
              "Steak Salad Bowl          1032  ...        9.39\n",
              "Barbacoa Salad Bowl       1283  ...        9.39\n",
              "Carnitas Salad Bowl       1035  ...        9.39\n",
              "Carnitas Soft Tacos       1011  ...        8.99\n",
              "Carnitas Crispy Tacos     1774  ...        8.99\n",
              "Steak Soft Tacos          1054  ...        8.99\n",
              "Carnitas Salad            1500  ...        8.99\n",
              "Carnitas Bowl             1007  ...        8.99\n",
              "Barbacoa Soft Tacos       1103  ...        8.99\n",
              "Barbacoa Crispy Tacos      110  ...        8.99\n",
              "\n",
              "[10 rows x 4 columns]"
            ]
          },
          "metadata": {
            "tags": []
          },
          "execution_count": 77
        }
      ]
    },
    {
      "cell_type": "code",
      "metadata": {
        "colab": {
          "base_uri": "https://localhost:8080/",
          "height": 280
        },
        "id": "Zjx2-5q7PtN4",
        "outputId": "d120ef61-7570-4226-f531-2deff878a171"
      },
      "source": [
        "#아이템 가격 분포 그래프 출력\n",
        "item_name_list = price_per_item.index.tolist()\n",
        "x_pos = np.arange(len(item_name_list))\n",
        "item_price=price_per_item['item_price'].tolist()\n",
        "\n",
        "plt.bar(x_pos,item_price, align='center')\n",
        "plt.ylabel('item price($)')\n",
        "plt.title('Distribution of item price')\n",
        "\n",
        "plt.show()"
      ],
      "execution_count": 79,
      "outputs": [
        {
          "output_type": "display_data",
          "data": {
            "image/png": "[encoded data removed]",
            "text/plain": [
              "<Figure size 432x288 with 1 Axes>"
            ]
          },
          "metadata": {
            "tags": [],
            "needs_background": "light"
          }
        }
      ]
    },
    {
      "cell_type": "code",
      "metadata": {
        "colab": {
          "base_uri": "https://localhost:8080/",
          "height": 280
        },
        "id": "orSfnYuDQxbp",
        "outputId": "e4d03529-998a-442b-e725-07376f2863c2"
      },
      "source": [
        "#아이템 가격 히스토그램을 출력\n",
        "plt.hist(item_price)\n",
        "plt.ylabel('counts')\n",
        "plt.title('Histogram of item price')\n",
        "plt.show()"
      ],
      "execution_count": 80,
      "outputs": [
        {
          "output_type": "display_data",
          "data": {
            "image/png": "[encoded data removed]",
            "text/plain": [
              "<Figure size 432x288 with 1 Axes>"
            ]
          },
          "metadata": {
            "tags": [],
            "needs_background": "light"
          }
        }
      ]
    },
    {
      "cell_type": "markdown",
      "metadata": {
        "id": "tnIVKXwsRAa8"
      },
      "source": [
        "\n",
        "\n",
        "---\n",
        "\n"
      ]
    },
    {
      "cell_type": "markdown",
      "metadata": {
        "id": "8Sw9o88DRBST"
      },
      "source": [
        "**[가장 비싼 주문에서 item이 총 몇개 팔렸는지 구하기]**"
      ]
    },
    {
      "cell_type": "code",
      "metadata": {
        "colab": {
          "base_uri": "https://localhost:8080/",
          "height": 217
        },
        "id": "TWGs-CzUQ_SS",
        "outputId": "ffd4be56-ba5a-4278-8409-4ce1c4e4c6ea"
      },
      "source": [
        "#가장 비싼 주문에서 item이 총 몇개 팔렸는지 계산\n",
        "chipo.groupby('order_id').sum().sort_values(by='item_price', ascending=False)[:5]"
      ],
      "execution_count": 83,
      "outputs": [
        {
          "output_type": "execute_result",
          "data": {
            "text/html": [
              "<div>\n",
              "<style scoped>\n",
              "    .dataframe tbody tr th:only-of-type {\n",
              "        vertical-align: middle;\n",
              "    }\n",
              "\n",
              "    .dataframe tbody tr th {\n",
              "        vertical-align: top;\n",
              "    }\n",
              "\n",
              "    .dataframe thead th {\n",
              "        text-align: right;\n",
              "    }\n",
              "</style>\n",
              "<table border=\"1\" class=\"dataframe\">\n",
              "  <thead>\n",
              "    <tr style=\"text-align: right;\">\n",
              "      <th></th>\n",
              "      <th>quantity</th>\n",
              "      <th>item_price</th>\n",
              "    </tr>\n",
              "    <tr>\n",
              "      <th>order_id</th>\n",
              "      <th></th>\n",
              "      <th></th>\n",
              "    </tr>\n",
              "  </thead>\n",
              "  <tbody>\n",
              "    <tr>\n",
              "      <th>926</th>\n",
              "      <td>23</td>\n",
              "      <td>205.25</td>\n",
              "    </tr>\n",
              "    <tr>\n",
              "      <th>1443</th>\n",
              "      <td>35</td>\n",
              "      <td>160.74</td>\n",
              "    </tr>\n",
              "    <tr>\n",
              "      <th>1483</th>\n",
              "      <td>14</td>\n",
              "      <td>139.00</td>\n",
              "    </tr>\n",
              "    <tr>\n",
              "      <th>691</th>\n",
              "      <td>11</td>\n",
              "      <td>118.25</td>\n",
              "    </tr>\n",
              "    <tr>\n",
              "      <th>1786</th>\n",
              "      <td>20</td>\n",
              "      <td>114.30</td>\n",
              "    </tr>\n",
              "  </tbody>\n",
              "</table>\n",
              "</div>"
            ],
            "text/plain": [
              "          quantity  item_price\n",
              "order_id                      \n",
              "926             23      205.25\n",
              "1443            35      160.74\n",
              "1483            14      139.00\n",
              "691             11      118.25\n",
              "1786            20      114.30"
            ]
          },
          "metadata": {
            "tags": []
          },
          "execution_count": 83
        }
      ]
    },
    {
      "cell_type": "markdown",
      "metadata": {
        "id": "nIeB-xqdRZsU"
      },
      "source": [
        "\n",
        "\n",
        "---\n",
        "\n"
      ]
    },
    {
      "cell_type": "markdown",
      "metadata": {
        "id": "nC9aSx0IRbJC"
      },
      "source": [
        "**['veggie salad bowl'이 몇번 주문되었는지 구하기]**"
      ]
    },
    {
      "cell_type": "code",
      "metadata": {
        "colab": {
          "base_uri": "https://localhost:8080/",
          "height": 205
        },
        "id": "sU-6RjPRRSAK",
        "outputId": "95be9ae6-f86a-4f98-dccb-9f4e520b7c82"
      },
      "source": [
        "#'veggie salad bowl'이 몇 번 주문되었는지 계산\n",
        "chipo_salad = chipo[chipo['item_name']=='Veggie Salad Bowl']\n",
        "#한ㄴ 주문 내에서 중복 집계된 item_name 제거\n",
        "chipo_salad=chipo_salad.drop_duplicates(['item_name', 'order_id'])\n",
        "\n",
        "print(len(chipo_salad))\n",
        "chipo_salad.head()"
      ],
      "execution_count": 86,
      "outputs": [
        {
          "output_type": "stream",
          "text": [
            "18\n"
          ],
          "name": "stdout"
        },
        {
          "output_type": "execute_result",
          "data": {
            "text/html": [
              "<div>\n",
              "<style scoped>\n",
              "    .dataframe tbody tr th:only-of-type {\n",
              "        vertical-align: middle;\n",
              "    }\n",
              "\n",
              "    .dataframe tbody tr th {\n",
              "        vertical-align: top;\n",
              "    }\n",
              "\n",
              "    .dataframe thead th {\n",
              "        text-align: right;\n",
              "    }\n",
              "</style>\n",
              "<table border=\"1\" class=\"dataframe\">\n",
              "  <thead>\n",
              "    <tr style=\"text-align: right;\">\n",
              "      <th></th>\n",
              "      <th>order_id</th>\n",
              "      <th>quantity</th>\n",
              "      <th>item_name</th>\n",
              "      <th>choice_description</th>\n",
              "      <th>item_price</th>\n",
              "    </tr>\n",
              "  </thead>\n",
              "  <tbody>\n",
              "    <tr>\n",
              "      <th>186</th>\n",
              "      <td>83</td>\n",
              "      <td>1</td>\n",
              "      <td>Veggie Salad Bowl</td>\n",
              "      <td>[Fresh Tomato Salsa, [Fajita Vegetables, Rice,...</td>\n",
              "      <td>11.25</td>\n",
              "    </tr>\n",
              "    <tr>\n",
              "      <th>295</th>\n",
              "      <td>128</td>\n",
              "      <td>1</td>\n",
              "      <td>Veggie Salad Bowl</td>\n",
              "      <td>[Fresh Tomato Salsa, [Fajita Vegetables, Lettu...</td>\n",
              "      <td>11.25</td>\n",
              "    </tr>\n",
              "    <tr>\n",
              "      <th>455</th>\n",
              "      <td>195</td>\n",
              "      <td>1</td>\n",
              "      <td>Veggie Salad Bowl</td>\n",
              "      <td>[Fresh Tomato Salsa, [Fajita Vegetables, Rice,...</td>\n",
              "      <td>11.25</td>\n",
              "    </tr>\n",
              "    <tr>\n",
              "      <th>496</th>\n",
              "      <td>207</td>\n",
              "      <td>1</td>\n",
              "      <td>Veggie Salad Bowl</td>\n",
              "      <td>[Fresh Tomato Salsa, [Rice, Lettuce, Guacamole...</td>\n",
              "      <td>11.25</td>\n",
              "    </tr>\n",
              "    <tr>\n",
              "      <th>960</th>\n",
              "      <td>394</td>\n",
              "      <td>1</td>\n",
              "      <td>Veggie Salad Bowl</td>\n",
              "      <td>[Fresh Tomato Salsa, [Fajita Vegetables, Lettu...</td>\n",
              "      <td>8.75</td>\n",
              "    </tr>\n",
              "  </tbody>\n",
              "</table>\n",
              "</div>"
            ],
            "text/plain": [
              "    order_id  ...  item_price\n",
              "186       83  ...       11.25\n",
              "295      128  ...       11.25\n",
              "455      195  ...       11.25\n",
              "496      207  ...       11.25\n",
              "960      394  ...        8.75\n",
              "\n",
              "[5 rows x 5 columns]"
            ]
          },
          "metadata": {
            "tags": []
          },
          "execution_count": 86
        }
      ]
    },
    {
      "cell_type": "markdown",
      "metadata": {
        "id": "CGclr_raSIgz"
      },
      "source": [
        "**['chicken bowl'을 2개 이상 주문한 주문 횟수 구하기]**"
      ]
    },
    {
      "cell_type": "code",
      "metadata": {
        "colab": {
          "base_uri": "https://localhost:8080/"
        },
        "id": "zXpHKgZ9R0k0",
        "outputId": "231f6e18-e7cb-4219-bab3-26b8d4e0bd8c"
      },
      "source": [
        "#'chicken bowl'을 2개 이상 주문한 주문 횟수 구함\n",
        "chipo_chicken = chipo[chipo['item_name']=='Chicken Bowl']\n",
        "chipo_chicken_ordersum = chipo_chicken.groupby('order_id').sum()['quantity']\n",
        "chipo_chicken_result = chipo_chicken_ordersum[chipo_chicken_ordersum>=2]\n",
        "\n",
        "print(len(chipo_chicken_result))\n",
        "chipo_chicken_result.head()"
      ],
      "execution_count": 91,
      "outputs": [
        {
          "output_type": "stream",
          "text": [
            "114\n"
          ],
          "name": "stdout"
        },
        {
          "output_type": "execute_result",
          "data": {
            "text/plain": [
              "order_id\n",
              "1004    2\n",
              "1023    2\n",
              "1072    2\n",
              "1078    2\n",
              "1091    2\n",
              "Name: quantity, dtype: int64"
            ]
          },
          "metadata": {
            "tags": []
          },
          "execution_count": 91
        }
      ]
    }
  ]
}